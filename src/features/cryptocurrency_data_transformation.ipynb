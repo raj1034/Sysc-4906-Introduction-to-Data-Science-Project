{
 "cells": [
  {
   "cell_type": "markdown",
   "id": "e15cb1a7",
   "metadata": {},
   "source": [
    "# Cryptocurrency Data Transformation Script"
   ]
  },
  {
   "cell_type": "markdown",
   "id": "0c4010dc",
   "metadata": {},
   "source": [
    "### Authors\n",
    "\n",
    "|    Student Name                 |    Student Number  |\n",
    "|---------------------------------|--------------------|\n",
    "| Raj Sandhu                      | 101111960          |\n",
    "| Akaash Kapoor                   | 101112895          |\n",
    "| Ali Alvi                        | 101114940          |\n",
    "| Hassan Jallad                   | 101109334          |\n",
    "| Areeb Ul Haq                    | 101115337          |\n",
    "| Ahmad Abuoudeh                  | 101072636          |"
   ]
  },
  {
   "cell_type": "markdown",
   "id": "bded42cf",
   "metadata": {},
   "source": [
    "# Libraries To Import"
   ]
  },
  {
   "cell_type": "code",
   "execution_count": null,
   "id": "6cfa2a0b",
   "metadata": {},
   "outputs": [],
   "source": [
    "import pandas as pd\n",
    "import os\n",
    "import path"
   ]
  }
 ],
 "metadata": {
  "kernelspec": {
   "display_name": "Python 3",
   "language": "python",
   "name": "python3"
  },
  "language_info": {
   "codemirror_mode": {
    "name": "ipython",
    "version": 3
   },
   "file_extension": ".py",
   "mimetype": "text/x-python",
   "name": "python",
   "nbconvert_exporter": "python",
   "pygments_lexer": "ipython3",
   "version": "3.9.1"
  }
 },
 "nbformat": 4,
 "nbformat_minor": 5
}

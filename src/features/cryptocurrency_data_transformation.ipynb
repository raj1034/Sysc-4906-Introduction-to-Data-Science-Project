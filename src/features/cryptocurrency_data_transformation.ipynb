{
 "cells": [
  {
   "cell_type": "markdown",
   "id": "a2f84075",
   "metadata": {},
   "source": [
    "# Cryptocurrency Data Transformation Script"
   ]
  },
  {
   "cell_type": "markdown",
   "id": "0c4010dc",
   "metadata": {},
   "source": [
    "### Authors\n",
    "\n",
    "|    Student Name                 |    Student Number  |\n",
    "|---------------------------------|--------------------|\n",
    "| Raj Sandhu                      | 101111960          |\n",
    "| Akaash Kapoor                   | 101112895          |\n",
    "| Ali Alvi                        | 101114940          |\n",
    "| Hassan Jallad                   | 101109334          |\n",
    "| Areeb Ul Haq                    | 101115337          |\n",
    "| Ahmad Abuoudeh                  | 101072636          |"
   ]
  },
  {
   "cell_type": "markdown",
   "id": "28eb2e52",
   "metadata": {},
   "source": [
    "# Libraries To Import"
   ]
  },
  {
   "cell_type": "code",
   "execution_count": 9,
   "id": "76de1c3c",
   "metadata": {},
   "outputs": [],
   "source": [
    "import pandas as pd\n",
    "import os"
   ]
  },
  {
   "cell_type": "markdown",
   "id": "00d5399d",
   "metadata": {},
   "source": [
    "# Configure Destination Paths for Transformed Data to be Stored"
   ]
  },
  {
   "cell_type": "code",
   "execution_count": 10,
   "id": "969f7c8c",
   "metadata": {},
   "outputs": [],
   "source": [
    "parent_folder = os.path.dirname(os.path.dirname(os.getcwd()))\n",
    "data_folder = \"data\"\n",
    "interim_folder = \"interim\"\n",
    "processed_folder = \"processed\"\n",
    "\n",
    "interim_data_file_path = os.path.join(parent_folder, data_folder, interim_folder)\n",
    "processed_data_file_path = os.path.join(parent_folder, data_folder, processed_folder)"
   ]
  },
  {
   "cell_type": "markdown",
   "id": "de2ffa86",
   "metadata": {},
   "source": [
    "# Data Transformation: Part 1"
   ]
  },
  {
   "cell_type": "code",
   "execution_count": 11,
   "id": "16276a1d",
   "metadata": {},
   "outputs": [],
   "source": [
    "#In Part 1, the script will extract interim data already ingested, and extract the coin's name and average\n",
    "#volatility. This will be stored in two lists, one for names, one for description, and one for volatility. \n",
    "\n",
    "coin_names = []\n",
    "coin_volatilities = []\n",
    "\n",
    "\n",
    "\n"
   ]
  },
  {
   "cell_type": "markdown",
   "id": "7f5894ee",
   "metadata": {},
   "source": [
    "# Data Transformation: Part 2"
   ]
  },
  {
   "cell_type": "code",
   "execution_count": 12,
   "id": "a28feda6",
   "metadata": {},
   "outputs": [],
   "source": [
    "#In Part 2, the script will create a dataframe (using pandas) and join it with the interim data. \n",
    "#This dataframe will also be stored in the processed data file path. This data will be used for building the\n",
    "#recommendation system and running analytics in project phase 3. "
   ]
  }
 ],
 "metadata": {
  "kernelspec": {
   "display_name": "Python 3",
   "language": "python",
   "name": "python3"
  },
  "language_info": {
   "codemirror_mode": {
    "name": "ipython",
    "version": 3
   },
   "file_extension": ".py",
   "mimetype": "text/x-python",
   "name": "python",
   "nbconvert_exporter": "python",
   "pygments_lexer": "ipython3",
   "version": "3.9.1"
  }
 },
 "nbformat": 4,
 "nbformat_minor": 5
}

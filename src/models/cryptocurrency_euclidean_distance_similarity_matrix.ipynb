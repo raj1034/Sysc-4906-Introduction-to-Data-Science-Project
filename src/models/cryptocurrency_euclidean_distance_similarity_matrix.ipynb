{
 "cells": [
  {
   "cell_type": "markdown",
   "metadata": {
    "id": "cL1zR59O7YwI"
   },
   "source": [
    "# Cryptocurreny Euclidean Distance Semantic Analysis\n",
    "\n",
    "### Authors\n",
    "|    Student Name                 |    Student Number  |\n",
    "|---------------------------------|--------------------|\n",
    "| Raj Sandhu                      | 101111960          |\n",
    "| Akaash Kapoor                   | 101112895          |\n",
    "| Ali Alvi                        | 101114940          |\n",
    "| Hassan Jallad                   | 101109334          |\n",
    "| Areeb Ul Haq                    | 101115337          |\n",
    "| Ahmad Abuoudeh                  | 101072636          |\n",
    "\n"
   ]
  },
  {
   "cell_type": "markdown",
   "metadata": {
    "id": "1ba6AJnJ75no"
   },
   "source": [
    "# Libraries to Import"
   ]
  },
  {
   "cell_type": "code",
   "execution_count": null,
   "metadata": {
    "id": "58O-FnFC7VLX"
   },
   "outputs": [],
   "source": [
    "import pandas as pd\n",
    "import numpy as np\n",
    "import os\n",
    "from sklearn.metrics.pairwise import euclidean_distances"
   ]
  },
  {
   "cell_type": "markdown",
   "metadata": {
    "id": "BN9hRz0Z9LBH"
   },
   "source": [
    "# Read In Processed Coin Datasheet"
   ]
  },
  {
   "cell_type": "code",
   "execution_count": null,
   "metadata": {
    "id": "PL_jVYHr9cWF"
   },
   "outputs": [],
   "source": [
    "parent_folder = os.path.dirname(os.path.dirname(os.getcwd()))\n",
    "data_folder = \"data\"\n",
    "processed_folder = \"processed\"\n",
    "processed_data_file_path = os.path.join(parent_folder, data_folder, processed_folder)\n",
    "coin_df = pd.read_csv(open(os.path.join(processed_data_file_path, \"coin-info.csv\"), \"r\"))\n",
    "coin_df.head()"
   ]
  },
  {
   "cell_type": "markdown",
   "metadata": {},
   "source": [
    "# Display Similarity Matrix"
   ]
  },
  {
   "cell_type": "code",
   "execution_count": null,
   "metadata": {
    "id": "hCSuNHlX_d24"
   },
   "outputs": [],
   "source": [
    "coin_similarity_matrix = pd.DataFrame(euclidean_distances(coin_df[\"Volatility\"].to_numpy().reshape(-1,1)), columns = coin_df[\"Name\"], index= coin_df[\"Name\"])\n",
    "coin_similarity_matrix"
   ]
  },
  {
   "cell_type": "markdown",
   "metadata": {},
   "source": [
    "# Sanity Check For Similiarity Matrix"
   ]
  },
  {
   "cell_type": "code",
   "execution_count": null,
   "metadata": {},
   "outputs": [],
   "source": [
    "coin_volatility_1 = coin_df[\"Volatility\"][0]\n",
    "coin_volatility_2 = coin_df[\"Volatility\"][1]\n",
    "coin_name_1 = coin_df[\"Name\"][0]\n",
    "coin_name_2 = coin_df[\"Name\"][1]\n",
    "\n",
    "volatility_array_1 = np.array([[coin_volatility_1]])\n",
    "volatility_array_2 = np.array([[coin_volatility_2]])\n",
    "\n",
    "euclidean_array = euclidean_distances(volatility_array_1, volatility_array_2).reshape(-1,1)\n",
    "\n",
    "assert euclidean_array.all() == abs(volatility_array_2 - volatility_array_1).all()\n",
    "print(\"Coins \" + coin_name_1 + \" and \" + coin_name_2 + \" pass the unit test. They have a euclidean distance of: \" + np.array2string(euclidean_array))\n"
   ]
  },
  {
   "cell_type": "markdown",
   "metadata": {},
   "source": [
    "# Download Similarity Matrix as a CSV File"
   ]
  },
  {
   "cell_type": "code",
   "execution_count": null,
   "metadata": {},
   "outputs": [],
   "source": [
    "coin_similarity_matrix.to_csv(\"coin-similarity-matrix-description-euclidean.csv\")"
   ]
  }
 ],
 "metadata": {
  "colab": {
   "collapsed_sections": [],
   "name": "cryptocurrency_euclidean_distance_similarity_matrix.ipynb",
   "provenance": []
  },
  "kernelspec": {
   "display_name": "Python 3",
   "language": "python",
   "name": "python3"
  },
  "language_info": {
   "codemirror_mode": {
    "name": "ipython",
    "version": 3
   },
   "file_extension": ".py",
   "mimetype": "text/x-python",
   "name": "python",
   "nbconvert_exporter": "python",
   "pygments_lexer": "ipython3",
   "version": "3.9.1"
  }
 },
 "nbformat": 4,
 "nbformat_minor": 1
}

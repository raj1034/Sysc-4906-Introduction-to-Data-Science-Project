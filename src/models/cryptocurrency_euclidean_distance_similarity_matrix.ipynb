{
  "nbformat": 4,
  "nbformat_minor": 0,
  "metadata": {
    "colab": {
      "name": "cryptocurrency_euclidean_distance_similarity_matrix.ipynb",
      "provenance": [],
      "collapsed_sections": []
    },
    "kernelspec": {
      "name": "python3",
      "display_name": "Python 3"
    },
    "language_info": {
      "name": "python"
    }
  },
  "cells": [
    {
      "cell_type": "markdown",
      "source": [
        "#Cryptocurreny Euclidean Distance Semantic Analysis\n",
        "\n",
        "### Authors\n",
        "|    Student Name                 |    Student Number  |\n",
        "|---------------------------------|--------------------|\n",
        "| Raj Sandhu                      | 101111960          |\n",
        "| Akaash Kapoor                   | 101112895          |\n",
        "| Ali Alvi                        | 101114940          |\n",
        "| Hassan Jallad                   | 101109334          |\n",
        "| Areeb Ul Haq                    | 101115337          |\n",
        "| Ahmad Abuoudeh                  | 101072636          |\n",
        "\n"
      ],
      "metadata": {
        "id": "cL1zR59O7YwI"
      }
    },
    {
      "cell_type": "markdown",
      "source": [
        "#Libraries to Import"
      ],
      "metadata": {
        "id": "1ba6AJnJ75no"
      }
    },
    {
      "cell_type": "code",
      "execution_count": 2,
      "metadata": {
        "id": "58O-FnFC7VLX"
      },
      "outputs": [],
      "source": [
        "import pandas as pd\n",
        "import numpy as np\n",
        "from sklearn.metrics.pairwise import euclidean_distances"
      ]
    },
    {
      "cell_type": "markdown",
      "source": [
        "#Read In Processed Coin Datasheet"
      ],
      "metadata": {
        "id": "BN9hRz0Z9LBH"
      }
    },
    {
      "cell_type": "code",
      "source": [
        "coin_df = pd.read_csv(\"coin-info.csv\")\n",
        "coin_df.head()"
      ],
      "metadata": {
        "id": "PL_jVYHr9cWF"
      },
      "execution_count": null,
      "outputs": []
    },
    {
      "cell_type": "code",
      "source": [
        ""
      ],
      "metadata": {
        "id": "hCSuNHlX_d24"
      },
      "execution_count": null,
      "outputs": []
    }
  ]
}
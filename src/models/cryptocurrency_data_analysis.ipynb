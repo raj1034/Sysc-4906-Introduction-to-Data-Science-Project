{
 "cells": [
  {
   "cell_type": "markdown",
   "id": "28d46a34-93b9-43cd-9885-ded4201e5d97",
   "metadata": {},
   "source": [
    "# Cryptocurrency Data Analysis"
   ]
  },
  {
   "cell_type": "markdown",
   "id": "fbd9277a-d384-4130-bfcb-6e6942f98860",
   "metadata": {},
   "source": [
    "### Authors\n",
    "\n",
    "|    Student Name                 |    Student Number  |\n",
    "|---------------------------------|--------------------|\n",
    "| Raj Sandhu                      | 101111960          |\n",
    "| Akaash Kapoor                   | 101112895          |\n",
    "| Ali Alvi                        | 101114940          |\n",
    "| Hassan Jallad                   | 101109334          |\n",
    "| Areeb Ul Haq                    | 101115337          |\n",
    "| Ahmad Abuoudeh                  | 101072636          |"
   ]
  },
  {
   "cell_type": "markdown",
   "id": "32f0d199-b374-4aaf-87c1-56fd785a4217",
   "metadata": {},
   "source": [
    "## Libraries to Import"
   ]
  },
  {
   "cell_type": "code",
   "execution_count": 1,
   "id": "b3d5cb9b-2700-4b8f-b76e-086b78ec735f",
   "metadata": {},
   "outputs": [
    {
     "name": "stdout",
     "output_type": "stream",
     "text": [
      "Requirement already satisfied: gensim in c:\\users\\raj20\\anaconda3\\lib\\site-packages (4.1.2)\n",
      "Requirement already satisfied: Cython==0.29.23 in c:\\users\\raj20\\anaconda3\\lib\\site-packages (from gensim) (0.29.23)\n",
      "Requirement already satisfied: smart-open>=1.8.1 in c:\\users\\raj20\\anaconda3\\lib\\site-packages (from gensim) (5.2.1)\n",
      "Requirement already satisfied: numpy>=1.17.0 in c:\\users\\raj20\\anaconda3\\lib\\site-packages (from gensim) (1.20.3)\n",
      "Requirement already satisfied: scipy>=0.18.1 in c:\\users\\raj20\\anaconda3\\lib\\site-packages (from gensim) (1.7.1)\n",
      "Requirement already satisfied: pyemd in c:\\users\\raj20\\anaconda3\\lib\\site-packages (0.5.1)\n",
      "Requirement already satisfied: numpy<2.0.0,>=1.9.0 in c:\\users\\raj20\\anaconda3\\lib\\site-packages (from pyemd) (1.20.3)\n"
     ]
    }
   ],
   "source": [
    "! pip install gensim\n",
    "! pip install pyemd\n",
    "import gensim.downloader as api\n",
    "import os\n",
    "import pandas as pd\n",
    "import numpy as np"
   ]
  },
  {
   "cell_type": "markdown",
   "id": "a0d38708-ff0e-4baa-a27a-df0ce55f02c8",
   "metadata": {},
   "source": [
    "## Get Path of Processed CSV File For Analysis"
   ]
  },
  {
   "cell_type": "code",
   "execution_count": 2,
   "id": "9bd2fe66-1c9d-4631-9c95-5e5d029fa465",
   "metadata": {},
   "outputs": [],
   "source": [
    "parent_folder = os.path.dirname(os.path.dirname(os.getcwd())) #Determine current working directory.\n",
    "#Get the path of the processed coin info csv file from which analysis will be performed.\n",
    "data_parent_folder = \"data\"\n",
    "processed_data_folder = \"processed\"\n",
    "processed_data_file = \"coin-info.csv\"\n",
    "processed_data_file_path = os.path.join(parent_folder, data_parent_folder, processed_data_folder, processed_data_file) #Join path together."
   ]
  },
  {
   "cell_type": "markdown",
   "id": "6edff48c-fc0d-43b2-bdb1-e81d16a3262c",
   "metadata": {},
   "source": [
    "## Get the Required Data of Two Test Coins"
   ]
  },
  {
   "cell_type": "code",
   "execution_count": 3,
   "id": "fff4683a-f049-4bd5-a2e8-f8d07df82186",
   "metadata": {},
   "outputs": [
    {
     "name": "stdout",
     "output_type": "stream",
     "text": [
      "The similarity of coins: iota and anchor-protocol is to be computed by description.\n",
      "The similarity of coins: iota and anchor-protocol is to be computed by volatility.\n"
     ]
    }
   ],
   "source": [
    "#Open the processed coin info csv file and obtain the descriptions of two test coins, whose cosine similarity shall be computed.\n",
    "coin_info = pd.read_csv(processed_data_file_path)\n",
    "first_coin_description = coin_info.loc[0][\"Description\"]\n",
    "first_coin_volatility = coin_info.loc[0][\"Volatility\"]\n",
    "first_coin_name = coin_info.loc[0][\"Name\"]\n",
    "second_coin_description = coin_info.loc[1][\"Description\"]\n",
    "second_coin_volatility = coin_info.loc[1][\"Volatility\"]\n",
    "second_coin_name = coin_info.loc[1][\"Name\"]\n",
    "print(\"The similarity of coins: \" + first_coin_name + \" and \" + second_coin_name + \" is to be computed by description.\") #Output names of the two coins.\n",
    "print(\"The similarity of coins: \" + first_coin_name + \" and \" + second_coin_name + \" is to be computed by volatility.\") #Output names of the two coins."
   ]
  },
  {
   "cell_type": "markdown",
   "id": "9a360dd5-36a5-426a-9d86-555481158ef9",
   "metadata": {},
   "source": [
    "## Load Pretrained model of Word Embeddings"
   ]
  },
  {
   "cell_type": "code",
   "execution_count": 4,
   "id": "de37d51d-ae41-41cb-9eab-143b8a9b76d3",
   "metadata": {},
   "outputs": [],
   "source": [
    "#Call the pretrained word embedding model. This is an example of transfer learning.\n",
    "model = api.load(\"word2vec-google-news-300\")"
   ]
  },
  {
   "cell_type": "markdown",
   "id": "451cecdb-263d-4ab4-bcef-11554bd19199",
   "metadata": {
    "tags": []
   },
   "source": [
    "## Apply the Model to the Descriptions of the Two Test Coins to Compute the Word Mover's Distance"
   ]
  },
  {
   "cell_type": "code",
   "execution_count": 5,
   "id": "a5ab41a6-3c5d-49aa-9010-27b64b2aeaf0",
   "metadata": {},
   "outputs": [
    {
     "name": "stdout",
     "output_type": "stream",
     "text": [
      "The semantic similarity of the descriptions of iota and anchor-protocol is 0.3376513362407437\n"
     ]
    }
   ],
   "source": [
    "word_movers_distance = model.wmdistance(first_coin_description, second_coin_description) #Apply pretrained word embedding model on descriptions.\n",
    "print(\"The semantic similarity of the descriptions of \" + first_coin_name + \" and \" + second_coin_name + \" is \" + str(word_movers_distance))"
   ]
  },
  {
   "cell_type": "markdown",
   "id": "4a205ded-eb1a-4406-90de-34bdd78f069f",
   "metadata": {},
   "source": [
    "## Compute the Euclidean Distance of the Market Volatility of the Two Test Coins"
   ]
  },
  {
   "cell_type": "code",
   "execution_count": 6,
   "id": "88f85254-060b-4fdc-86bd-56aa3412fbe8",
   "metadata": {},
   "outputs": [
    {
     "name": "stdout",
     "output_type": "stream",
     "text": [
      "The distance of the market volatilities of iota and anchor-protocol is 0.7667485084340597\n"
     ]
    }
   ],
   "source": [
    "distance_volatility = np.linalg.norm(first_coin_volatility - second_coin_volatility) #Call the euclidean distance function from numpy.\n",
    "print(\"The distance of the market volatilities of \" + first_coin_name + \" and \" + second_coin_name + \" is \" + str(distance_volatility))"
   ]
  },
  {
   "cell_type": "markdown",
   "id": "ea431992-ab7a-4fa9-84ab-03b61ed1390c",
   "metadata": {},
   "source": [
    "In the above two cells, tests were performed to check the similarity of the two test coins. The first was by using Word Mover's Distance on the coin descriptions and the second was by using the Euclidean distance of the market volatilities. The Euclidean distance of the two volatilities in 1-D is computed by the formula $\\ |volatility_1 - volatility_2| $. Note that this is just exploring the analytical methods and shall be further refined in phase 3. However, these preliminary results appear promising and show good levels of similarity between the test coins."
   ]
  }
 ],
 "metadata": {
  "kernelspec": {
   "display_name": "Python 3 (ipykernel)",
   "language": "python",
   "name": "python3"
  },
  "language_info": {
   "codemirror_mode": {
    "name": "ipython",
    "version": 3
   },
   "file_extension": ".py",
   "mimetype": "text/x-python",
   "name": "python",
   "nbconvert_exporter": "python",
   "pygments_lexer": "ipython3",
   "version": "3.9.7"
  }
 },
 "nbformat": 4,
 "nbformat_minor": 5
}
